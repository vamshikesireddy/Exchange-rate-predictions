{
 "cells": [
  {
   "cell_type": "code",
   "execution_count": 0,
   "metadata": {
    "colab": {
     "base_uri": "https://localhost:8080/",
     "height": 34
    },
    "colab_type": "code",
    "id": "8J1aW6VfG6j9",
    "outputId": "768e1e8c-fc26-486c-a3b3-ab2cff858b1c"
   },
   "outputs": [
    {
     "name": "stderr",
     "output_type": "stream",
     "text": [
      "Using TensorFlow backend.\n"
     ]
    }
   ],
   "source": [
    "#Import libraries\n",
    "import pandas as pd\n",
    "import numpy as np\n",
    "import matplotlib.pyplot as plt\n",
    "%matplotlib inline\n",
    "from keras import models\n",
    "from keras import layers\n",
    "from keras import optimizers\n",
    "from keras import metrics\n",
    "from keras import losses\n",
    "import keras\n",
    "from sklearn.metrics import mean_squared_error\n",
    "from sklearn.metrics import r2_score\n",
    "from sklearn.metrics import mean_absolute_error\n",
    "from keras.models import Sequential\n",
    "from keras.layers import Dense\n",
    "from keras.layers import LSTM\n",
    "from keras.layers import Dropout"
   ]
  },
  {
   "cell_type": "markdown",
   "metadata": {
    "colab_type": "text",
    "id": "1YK2Uo7F5NVn"
   },
   "source": [
    "# One Timestamp Ahead"
   ]
  },
  {
   "cell_type": "code",
   "execution_count": 0,
   "metadata": {
    "colab": {},
    "colab_type": "code",
    "id": "qiGT-RBMG_OS"
   },
   "outputs": [],
   "source": [
    "#Import the dataset\n",
    "df = pd.read_csv('USD_INR.csv')"
   ]
  },
  {
   "cell_type": "code",
   "execution_count": 0,
   "metadata": {
    "colab": {
     "base_uri": "https://localhost:8080/",
     "height": 204
    },
    "colab_type": "code",
    "id": "Orz4mi31IBrp",
    "outputId": "46430944-2555-407b-d45c-7dcb185ef407"
   },
   "outputs": [
    {
     "data": {
      "text/html": [
       "<div>\n",
       "<style scoped>\n",
       "    .dataframe tbody tr th:only-of-type {\n",
       "        vertical-align: middle;\n",
       "    }\n",
       "\n",
       "    .dataframe tbody tr th {\n",
       "        vertical-align: top;\n",
       "    }\n",
       "\n",
       "    .dataframe thead th {\n",
       "        text-align: right;\n",
       "    }\n",
       "</style>\n",
       "<table border=\"1\" class=\"dataframe\">\n",
       "  <thead>\n",
       "    <tr style=\"text-align: right;\">\n",
       "      <th></th>\n",
       "      <th>Date</th>\n",
       "      <th>Price</th>\n",
       "      <th>Open</th>\n",
       "      <th>High</th>\n",
       "      <th>Low</th>\n",
       "      <th>Change %</th>\n",
       "    </tr>\n",
       "  </thead>\n",
       "  <tbody>\n",
       "    <tr>\n",
       "      <th>0</th>\n",
       "      <td>17-Apr-19</td>\n",
       "      <td>69.445</td>\n",
       "      <td>69.895</td>\n",
       "      <td>69.895</td>\n",
       "      <td>69.331</td>\n",
       "      <td>-0.64%</td>\n",
       "    </tr>\n",
       "    <tr>\n",
       "      <th>1</th>\n",
       "      <td>16-Apr-19</td>\n",
       "      <td>69.895</td>\n",
       "      <td>69.820</td>\n",
       "      <td>69.895</td>\n",
       "      <td>69.396</td>\n",
       "      <td>0.72%</td>\n",
       "    </tr>\n",
       "    <tr>\n",
       "      <th>2</th>\n",
       "      <td>15-Apr-19</td>\n",
       "      <td>69.395</td>\n",
       "      <td>69.174</td>\n",
       "      <td>69.483</td>\n",
       "      <td>69.045</td>\n",
       "      <td>0.32%</td>\n",
       "    </tr>\n",
       "    <tr>\n",
       "      <th>3</th>\n",
       "      <td>14-Apr-19</td>\n",
       "      <td>69.171</td>\n",
       "      <td>69.171</td>\n",
       "      <td>69.171</td>\n",
       "      <td>69.171</td>\n",
       "      <td>-0.03%</td>\n",
       "    </tr>\n",
       "    <tr>\n",
       "      <th>4</th>\n",
       "      <td>12-Apr-19</td>\n",
       "      <td>69.190</td>\n",
       "      <td>69.030</td>\n",
       "      <td>69.390</td>\n",
       "      <td>69.030</td>\n",
       "      <td>0.25%</td>\n",
       "    </tr>\n",
       "  </tbody>\n",
       "</table>\n",
       "</div>"
      ],
      "text/plain": [
       "        Date   Price    Open    High     Low Change %\n",
       "0  17-Apr-19  69.445  69.895  69.895  69.331   -0.64%\n",
       "1  16-Apr-19  69.895  69.820  69.895  69.396    0.72%\n",
       "2  15-Apr-19  69.395  69.174  69.483  69.045    0.32%\n",
       "3  14-Apr-19  69.171  69.171  69.171  69.171   -0.03%\n",
       "4  12-Apr-19  69.190  69.030  69.390  69.030    0.25%"
      ]
     },
     "execution_count": 6,
     "metadata": {
      "tags": []
     },
     "output_type": "execute_result"
    }
   ],
   "source": [
    "#cherck top few rows of dataset\n",
    "df.head()"
   ]
  },
  {
   "cell_type": "code",
   "execution_count": 0,
   "metadata": {
    "colab": {
     "base_uri": "https://localhost:8080/",
     "height": 34
    },
    "colab_type": "code",
    "id": "m7cj6vy2ImlP",
    "outputId": "043cd449-1132-4b95-e517-597b81d89a00"
   },
   "outputs": [
    {
     "data": {
      "text/plain": [
       "(10183, 6)"
      ]
     },
     "execution_count": 9,
     "metadata": {
      "tags": []
     },
     "output_type": "execute_result"
    }
   ],
   "source": [
    "#shape of the dataset\n",
    "df.shape"
   ]
  },
  {
   "cell_type": "code",
   "execution_count": 0,
   "metadata": {
    "colab": {
     "base_uri": "https://localhost:8080/",
     "height": 204
    },
    "colab_type": "code",
    "id": "vzkvjlNpIpII",
    "outputId": "32af74a0-9578-45ac-d352-8299386f0bc3"
   },
   "outputs": [
    {
     "name": "stdout",
     "output_type": "stream",
     "text": [
      "<class 'pandas.core.frame.DataFrame'>\n",
      "RangeIndex: 10183 entries, 0 to 10182\n",
      "Data columns (total 6 columns):\n",
      "Date        10183 non-null object\n",
      "Price       10183 non-null float64\n",
      "Open        10183 non-null float64\n",
      "High        10183 non-null float64\n",
      "Low         10183 non-null float64\n",
      "Change %    10183 non-null object\n",
      "dtypes: float64(4), object(2)\n",
      "memory usage: 477.4+ KB\n"
     ]
    }
   ],
   "source": [
    "#info\n",
    "df.info()"
   ]
  },
  {
   "cell_type": "code",
   "execution_count": 0,
   "metadata": {
    "colab": {},
    "colab_type": "code",
    "id": "0Ju6HXzFIrtT"
   },
   "outputs": [],
   "source": [
    "#converting Date column to time\n",
    "df['Date'] = pd.to_datetime(df['Date'])"
   ]
  },
  {
   "cell_type": "code",
   "execution_count": 0,
   "metadata": {
    "colab": {
     "base_uri": "https://localhost:8080/",
     "height": 204
    },
    "colab_type": "code",
    "id": "wz2-Tz70fj_x",
    "outputId": "7fb8625a-5e8f-4458-d3d4-0d8129bcc1df"
   },
   "outputs": [
    {
     "name": "stdout",
     "output_type": "stream",
     "text": [
      "<class 'pandas.core.frame.DataFrame'>\n",
      "RangeIndex: 10183 entries, 0 to 10182\n",
      "Data columns (total 6 columns):\n",
      "Date        10183 non-null datetime64[ns]\n",
      "Price       10183 non-null float64\n",
      "Open        10183 non-null float64\n",
      "High        10183 non-null float64\n",
      "Low         10183 non-null float64\n",
      "Change %    10183 non-null object\n",
      "dtypes: datetime64[ns](1), float64(4), object(1)\n",
      "memory usage: 477.4+ KB\n"
     ]
    }
   ],
   "source": [
    "df.info()"
   ]
  },
  {
   "cell_type": "code",
   "execution_count": 0,
   "metadata": {
    "colab": {
     "base_uri": "https://localhost:8080/",
     "height": 235
    },
    "colab_type": "code",
    "id": "qeLlE5Oai10V",
    "outputId": "8974915f-c15d-4e52-b9f7-fbea2b23d7ca"
   },
   "outputs": [
    {
     "data": {
      "text/html": [
       "<div>\n",
       "<style scoped>\n",
       "    .dataframe tbody tr th:only-of-type {\n",
       "        vertical-align: middle;\n",
       "    }\n",
       "\n",
       "    .dataframe tbody tr th {\n",
       "        vertical-align: top;\n",
       "    }\n",
       "\n",
       "    .dataframe thead th {\n",
       "        text-align: right;\n",
       "    }\n",
       "</style>\n",
       "<table border=\"1\" class=\"dataframe\">\n",
       "  <thead>\n",
       "    <tr style=\"text-align: right;\">\n",
       "      <th></th>\n",
       "      <th>Price</th>\n",
       "      <th>Open</th>\n",
       "      <th>High</th>\n",
       "      <th>Low</th>\n",
       "      <th>Change %</th>\n",
       "    </tr>\n",
       "    <tr>\n",
       "      <th>Date</th>\n",
       "      <th></th>\n",
       "      <th></th>\n",
       "      <th></th>\n",
       "      <th></th>\n",
       "      <th></th>\n",
       "    </tr>\n",
       "  </thead>\n",
       "  <tbody>\n",
       "    <tr>\n",
       "      <th>2019-04-17</th>\n",
       "      <td>69.445</td>\n",
       "      <td>69.895</td>\n",
       "      <td>69.895</td>\n",
       "      <td>69.331</td>\n",
       "      <td>-0.64%</td>\n",
       "    </tr>\n",
       "    <tr>\n",
       "      <th>2019-04-16</th>\n",
       "      <td>69.895</td>\n",
       "      <td>69.820</td>\n",
       "      <td>69.895</td>\n",
       "      <td>69.396</td>\n",
       "      <td>0.72%</td>\n",
       "    </tr>\n",
       "    <tr>\n",
       "      <th>2019-04-15</th>\n",
       "      <td>69.395</td>\n",
       "      <td>69.174</td>\n",
       "      <td>69.483</td>\n",
       "      <td>69.045</td>\n",
       "      <td>0.32%</td>\n",
       "    </tr>\n",
       "    <tr>\n",
       "      <th>2019-04-14</th>\n",
       "      <td>69.171</td>\n",
       "      <td>69.171</td>\n",
       "      <td>69.171</td>\n",
       "      <td>69.171</td>\n",
       "      <td>-0.03%</td>\n",
       "    </tr>\n",
       "    <tr>\n",
       "      <th>2019-04-12</th>\n",
       "      <td>69.190</td>\n",
       "      <td>69.030</td>\n",
       "      <td>69.390</td>\n",
       "      <td>69.030</td>\n",
       "      <td>0.25%</td>\n",
       "    </tr>\n",
       "  </tbody>\n",
       "</table>\n",
       "</div>"
      ],
      "text/plain": [
       "             Price    Open    High     Low Change %\n",
       "Date                                               \n",
       "2019-04-17  69.445  69.895  69.895  69.331   -0.64%\n",
       "2019-04-16  69.895  69.820  69.895  69.396    0.72%\n",
       "2019-04-15  69.395  69.174  69.483  69.045    0.32%\n",
       "2019-04-14  69.171  69.171  69.171  69.171   -0.03%\n",
       "2019-04-12  69.190  69.030  69.390  69.030    0.25%"
      ]
     },
     "execution_count": 21,
     "metadata": {
      "tags": []
     },
     "output_type": "execute_result"
    }
   ],
   "source": [
    "df_date = df.set_index([\"Date\"], drop=True)\n",
    "df_date.head(5)"
   ]
  },
  {
   "cell_type": "code",
   "execution_count": 0,
   "metadata": {
    "colab": {},
    "colab_type": "code",
    "id": "dRpbMBAVi7_5"
   },
   "outputs": [],
   "source": [
    "#Flipping the dataframe\n",
    "df_date = df_date.sort_index(axis=1, ascending=True)\n",
    "df_date = df_date.iloc[::-1]"
   ]
  },
  {
   "cell_type": "code",
   "execution_count": 0,
   "metadata": {
    "colab": {
     "base_uri": "https://localhost:8080/",
     "height": 290
    },
    "colab_type": "code",
    "id": "Op1YuRQEjVR1",
    "outputId": "9a377570-2546-4b27-cedd-e12e5457959c"
   },
   "outputs": [
    {
     "data": {
      "text/plain": [
       "<matplotlib.axes._subplots.AxesSubplot at 0x7ff014d48160>"
      ]
     },
     "execution_count": 23,
     "metadata": {
      "tags": []
     },
     "output_type": "execute_result"
    },
    {
     "data": {
      "image/png": "[encoded data removed]",
      "text/plain": [
       "<Figure size 432x288 with 1 Axes>"
      ]
     },
     "metadata": {
      "tags": []
     },
     "output_type": "display_data"
    }
   ],
   "source": [
    "data = df_date[['Price']]\n",
    "data.plot(y='Price')"
   ]
  },
  {
   "cell_type": "code",
   "execution_count": 0,
   "metadata": {
    "colab": {
     "base_uri": "https://localhost:8080/",
     "height": 468
    },
    "colab_type": "code",
    "id": "kxNSEIiTmSXO",
    "outputId": "155c0a6d-303c-4f37-aadd-ea9eb5980d7b"
   },
   "outputs": [
    {
     "data": {
      "image/png": "[encoded data removed]",
      "text/plain": [
       "<Figure size 720x576 with 1 Axes>"
      ]
     },
     "metadata": {
      "tags": []
     },
     "output_type": "display_data"
    }
   ],
   "source": [
    "#splitting data into training and testing set based on timestamp\n",
    "split = pd.Timestamp('01-01-2011')\n",
    "train = data.loc[:split]\n",
    "test = data.loc[split:]\n",
    "ax = train.plot(figsize=(10,8))\n",
    "test.plot(ax=ax)\n",
    "plt.legend(['train', 'test'])\n",
    "plt.show()"
   ]
  },
  {
   "cell_type": "code",
   "execution_count": 0,
   "metadata": {
    "colab": {},
    "colab_type": "code",
    "id": "WMdgtXl9mhpl"
   },
   "outputs": [],
   "source": [
    "#Normalizing the training and test datsets\n",
    "from sklearn.preprocessing import MinMaxScaler\n",
    "minmax = MinMaxScaler()"
   ]
  },
  {
   "cell_type": "code",
   "execution_count": 0,
   "metadata": {
    "colab": {},
    "colab_type": "code",
    "id": "dEmjJT7koKHu"
   },
   "outputs": [],
   "source": [
    "trainset = minmax.fit_transform(train)\n",
    "testset = minmax.transform(test)"
   ]
  },
  {
   "cell_type": "code",
   "execution_count": 0,
   "metadata": {
    "colab": {
     "base_uri": "https://localhost:8080/",
     "height": 193
    },
    "colab_type": "code",
    "id": "7zuvKpRDosa5",
    "outputId": "c778d785-02dd-4ff1-bf40-99273c63aeca"
   },
   "outputs": [
    {
     "name": "stderr",
     "output_type": "stream",
     "text": [
      "/usr/local/lib/python3.6/dist-packages/ipykernel_launcher.py:12: FutureWarning: Method .as_matrix will be removed in a future version. Use .values instead.\n",
      "  if sys.path[0] == '':\n",
      "/usr/local/lib/python3.6/dist-packages/ipykernel_launcher.py:13: FutureWarning: Method .as_matrix will be removed in a future version. Use .values instead.\n",
      "  del sys.path[0]\n",
      "/usr/local/lib/python3.6/dist-packages/ipykernel_launcher.py:14: FutureWarning: Method .as_matrix will be removed in a future version. Use .values instead.\n",
      "  \n",
      "/usr/local/lib/python3.6/dist-packages/ipykernel_launcher.py:15: FutureWarning: Method .as_matrix will be removed in a future version. Use .values instead.\n",
      "  from ipykernel import kernelapp as app\n"
     ]
    }
   ],
   "source": [
    "traindf = pd.DataFrame(trainset, columns=['Y'], index=train.index)\n",
    "testdf = pd.DataFrame(testset, columns=['Y'], index=test.index)\n",
    "\n",
    "for s in range(1,2):\n",
    "    traindf['X-{}'.format(s)] = traindf['Y'].shift(s)\n",
    "    testdf['X-{}'.format(s)] = testdf['Y'].shift(s)"
   ]
  },
  {
   "cell_type": "code",
   "execution_count": null,
   "metadata": {},
   "outputs": [],
   "source": [
    "X_train = traindf.dropna().drop('Y', axis=1)\n",
    "y_train = traindf.dropna().drop('X-1', axis=1)\n",
    "X_test = testdf.dropna().drop('Y', axis=1)\n",
    "y_test = testdf.dropna().drop('X-1', axis=1)\n",
    "X_train = X_train.as_matrix()\n",
    "y_train = y_train.as_matrix()\n",
    "X_test = X_test.as_matrix()\n",
    "y_test = y_test.as_matrix()"
   ]
  },
  {
   "cell_type": "code",
   "execution_count": 0,
   "metadata": {
    "colab": {
     "base_uri": "https://localhost:8080/",
     "height": 286
    },
    "colab_type": "code",
    "id": "MHMPh5Dm27A2",
    "outputId": "4057bb21-7878-4413-9471-b751452ade96"
   },
   "outputs": [
    {
     "data": {
      "text/plain": [
       "[<matplotlib.lines.Line2D at 0x7f41147b1320>]"
      ]
     },
     "execution_count": 54,
     "metadata": {
      "tags": []
     },
     "output_type": "execute_result"
    },
    {
     "data": {
      "image/png": "[encoded data removed]",
      "text/plain": [
       "<Figure size 432x288 with 1 Axes>"
      ]
     },
     "metadata": {
      "tags": []
     },
     "output_type": "display_data"
    }
   ],
   "source": [
    "plt.plot(X_test)"
   ]
  },
  {
   "cell_type": "markdown",
   "metadata": {
    "colab_type": "text",
    "id": "FC4SNyaO2Jvo"
   },
   "source": [
    "## SVM"
   ]
  },
  {
   "cell_type": "code",
   "execution_count": 0,
   "metadata": {
    "colab": {},
    "colab_type": "code",
    "id": "Tjk2an-P2Chz"
   },
   "outputs": [],
   "source": [
    "from sklearn import svm"
   ]
  },
  {
   "cell_type": "code",
   "execution_count": 0,
   "metadata": {
    "colab": {
     "base_uri": "https://localhost:8080/",
     "height": 216
    },
    "colab_type": "code",
    "id": "bSiVhRrG2B-I",
    "outputId": "e58bd989-0541-4c51-845d-9f3b6decf8ed"
   },
   "outputs": [
    {
     "name": "stderr",
     "output_type": "stream",
     "text": [
      "/usr/local/lib/python3.6/dist-packages/sklearn/utils/validation.py:761: DataConversionWarning: A column-vector y was passed when a 1d array was expected. Please change the shape of y to (n_samples, ), for example using ravel().\n",
      "  y = column_or_1d(y, warn=True)\n",
      "/usr/local/lib/python3.6/dist-packages/sklearn/svm/base.py:196: FutureWarning: The default value of gamma will change from 'auto' to 'scale' in version 0.22 to account better for unscaled features. Set gamma explicitly to 'auto' or 'scale' to avoid this warning.\n",
      "  \"avoid this warning.\", FutureWarning)\n"
     ]
    },
    {
     "data": {
      "text/plain": [
       "SVR(C=1.0, cache_size=200, coef0=0.0, degree=3, epsilon=0.1,\n",
       "  gamma='auto_deprecated', kernel='rbf', max_iter=-1, shrinking=True,\n",
       "  tol=0.001, verbose=False)"
      ]
     },
     "execution_count": 57,
     "metadata": {
      "tags": []
     },
     "output_type": "execute_result"
    }
   ],
   "source": [
    "model = svm.SVR(kernel='rbf')\n",
    "model.fit(X_train,y_train)"
   ]
  },
  {
   "cell_type": "code",
   "execution_count": 0,
   "metadata": {
    "colab": {},
    "colab_type": "code",
    "id": "87m8NMpX2B1r"
   },
   "outputs": [],
   "source": [
    "pred = model.predict(X_test)"
   ]
  },
  {
   "cell_type": "code",
   "execution_count": 0,
   "metadata": {
    "colab": {
     "base_uri": "https://localhost:8080/",
     "height": 269
    },
    "colab_type": "code",
    "id": "GgSiuhyU2Buy",
    "outputId": "3fbfcd2b-e07b-47b7-d1ce-a4a75c5cdc41"
   },
   "outputs": [
    {
     "data": {
      "image/png": "[encoded data removed]",
      "text/plain": [
       "<Figure size 432x288 with 1 Axes>"
      ]
     },
     "metadata": {
      "tags": []
     },
     "output_type": "display_data"
    }
   ],
   "source": [
    "plt.plot(y_test,label='True Label')\n",
    "plt.plot(pred,label='Prediction Label')\n",
    "plt.legend()\n",
    "plt.show()"
   ]
  },
  {
   "cell_type": "code",
   "execution_count": 0,
   "metadata": {
    "colab": {
     "base_uri": "https://localhost:8080/",
     "height": 51
    },
    "colab_type": "code",
    "id": "B4UjtiOL2Bso",
    "outputId": "956146dd-fd39-417c-d86c-af3a89e7881d"
   },
   "outputs": [
    {
     "name": "stdout",
     "output_type": "stream",
     "text": [
      "MSE: 0.090761\n",
      "\r",
      "2: -2.184425\n"
     ]
    }
   ],
   "source": [
    "mse = mean_squared_error(y_test, pred)\n",
    "r2 = r2_score(y_test, pred)\n",
    "print('MSE: %f' % mse)\n",
    "print('\\r2: %f' % r2)"
   ]
  },
  {
   "cell_type": "code",
   "execution_count": 0,
   "metadata": {
    "colab": {},
    "colab_type": "code",
    "id": "m8UsKrK12BrG"
   },
   "outputs": [],
   "source": [
    "# Random Forest\n",
    "from sklearn.ensemble import RandomForestRegressor"
   ]
  },
  {
   "cell_type": "code",
   "execution_count": 0,
   "metadata": {
    "colab": {
     "base_uri": "https://localhost:8080/",
     "height": 233
    },
    "colab_type": "code",
    "id": "zauG5_4Y5xXJ",
    "outputId": "8b460b1c-3643-4482-8bb2-d9132ed8b375"
   },
   "outputs": [
    {
     "name": "stderr",
     "output_type": "stream",
     "text": [
      "/usr/local/lib/python3.6/dist-packages/ipykernel_launcher.py:2: DataConversionWarning: A column-vector y was passed when a 1d array was expected. Please change the shape of y to (n_samples,), for example using ravel().\n",
      "  \n"
     ]
    },
    {
     "data": {
      "text/plain": [
       "RandomForestRegressor(bootstrap=True, criterion='mse', max_depth=None,\n",
       "           max_features='auto', max_leaf_nodes=None,\n",
       "           min_impurity_decrease=0.0, min_impurity_split=None,\n",
       "           min_samples_leaf=1, min_samples_split=2,\n",
       "           min_weight_fraction_leaf=0.0, n_estimators=50, n_jobs=None,\n",
       "           oob_score=False, random_state=None, verbose=0, warm_start=False)"
      ]
     },
     "execution_count": 62,
     "metadata": {
      "tags": []
     },
     "output_type": "execute_result"
    }
   ],
   "source": [
    "model = RandomForestRegressor(n_estimators=50)\n",
    "model.fit(X_train,y_train)"
   ]
  },
  {
   "cell_type": "code",
   "execution_count": 0,
   "metadata": {
    "colab": {},
    "colab_type": "code",
    "id": "-z7Uhvi-5xNH"
   },
   "outputs": [],
   "source": [
    "pred = model.predict(X_test)"
   ]
  },
  {
   "cell_type": "code",
   "execution_count": 0,
   "metadata": {
    "colab": {
     "base_uri": "https://localhost:8080/",
     "height": 269
    },
    "colab_type": "code",
    "id": "EIaD76dh5xKu",
    "outputId": "e9086d48-8223-48c7-ef8d-9c39a023abf4"
   },
   "outputs": [
    {
     "data": {
      "image/png": "[encoded data removed]",
      "text/plain": [
       "<Figure size 432x288 with 1 Axes>"
      ]
     },
     "metadata": {
      "tags": []
     },
     "output_type": "display_data"
    }
   ],
   "source": [
    "plt.plot(y_test,label='True Label')\n",
    "plt.plot(pred,label='Prediction Label')\n",
    "plt.legend()\n",
    "plt.show()"
   ]
  },
  {
   "cell_type": "code",
   "execution_count": 0,
   "metadata": {
    "colab": {
     "base_uri": "https://localhost:8080/",
     "height": 51
    },
    "colab_type": "code",
    "id": "PQ_1SSZT5xHs",
    "outputId": "905d2d3e-1558-47b5-bd92-27affbc170e3"
   },
   "outputs": [
    {
     "name": "stdout",
     "output_type": "stream",
     "text": [
      "MSE: 0.071953\n",
      "\r",
      "2: -1.524538\n"
     ]
    }
   ],
   "source": [
    "mse = mean_squared_error(y_test, pred)\n",
    "r2 = r2_score(y_test, pred)\n",
    "print('MSE: %f' % mse)\n",
    "print('\\r2: %f' % r2)"
   ]
  },
  {
   "cell_type": "code",
   "execution_count": 0,
   "metadata": {
    "colab": {},
    "colab_type": "code",
    "id": "KO1C1jLh6V3i"
   },
   "outputs": [],
   "source": []
  },
  {
   "cell_type": "markdown",
   "metadata": {
    "colab_type": "text",
    "id": "n8mqu_eP2GvW"
   },
   "source": [
    "## ANN with Single neuron"
   ]
  },
  {
   "cell_type": "code",
   "execution_count": 0,
   "metadata": {
    "colab": {},
    "colab_type": "code",
    "id": "abcvtClpsv5m"
   },
   "outputs": [],
   "source": [
    "import keras.backend as k"
   ]
  },
  {
   "cell_type": "code",
   "execution_count": 0,
   "metadata": {
    "colab": {},
    "colab_type": "code",
    "id": "YNDwCxt5qzH8"
   },
   "outputs": [],
   "source": [
    "k.clear_session()\n",
    "model = models.Sequential()\n",
    "model.add(layers.Dense(units=1,activation='tanh',input_shape=(X_test.shape[1],)))\n",
    "model.compile(optimizer=optimizers.Adam(lr=0.001),loss=losses.mean_squared_error,\n",
    "              metrics=[metrics.MAE])"
   ]
  },
  {
   "cell_type": "code",
   "execution_count": 0,
   "metadata": {
    "colab": {
     "base_uri": "https://localhost:8080/",
     "height": 734
    },
    "colab_type": "code",
    "id": "_8_NSWv8uO-f",
    "outputId": "5b7eb4ad-23a8-42a6-c703-52ec37312e82"
   },
   "outputs": [
    {
     "name": "stdout",
     "output_type": "stream",
     "text": [
      "Epoch 1/20\n",
      "7972/7972 [==============================] - 1s 76us/step - loss: 0.4336 - mean_absolute_error: 0.5383\n",
      "Epoch 2/20\n",
      "7972/7972 [==============================] - 1s 64us/step - loss: 0.1779 - mean_absolute_error: 0.3693\n",
      "Epoch 3/20\n",
      "7972/7972 [==============================] - 1s 64us/step - loss: 0.1023 - mean_absolute_error: 0.2960\n",
      "Epoch 4/20\n",
      "7972/7972 [==============================] - 1s 64us/step - loss: 0.0792 - mean_absolute_error: 0.2591\n",
      "Epoch 5/20\n",
      "7972/7972 [==============================] - 0s 62us/step - loss: 0.0681 - mean_absolute_error: 0.2363\n",
      "Epoch 6/20\n",
      "7972/7972 [==============================] - 1s 63us/step - loss: 0.0590 - mean_absolute_error: 0.2186\n",
      "Epoch 7/20\n",
      "7972/7972 [==============================] - 0s 61us/step - loss: 0.0503 - mean_absolute_error: 0.2017\n",
      "Epoch 8/20\n",
      "7972/7972 [==============================] - 0s 61us/step - loss: 0.0419 - mean_absolute_error: 0.1843\n",
      "Epoch 9/20\n",
      "7972/7972 [==============================] - 0s 62us/step - loss: 0.0340 - mean_absolute_error: 0.1666\n",
      "Epoch 10/20\n",
      "7972/7972 [==============================] - 0s 62us/step - loss: 0.0269 - mean_absolute_error: 0.1483\n",
      "Epoch 11/20\n",
      "7972/7972 [==============================] - 1s 63us/step - loss: 0.0209 - mean_absolute_error: 0.1302\n",
      "Epoch 12/20\n",
      "7972/7972 [==============================] - 0s 62us/step - loss: 0.0158 - mean_absolute_error: 0.1133\n",
      "Epoch 13/20\n",
      "7972/7972 [==============================] - 1s 63us/step - loss: 0.0119 - mean_absolute_error: 0.0977\n",
      "Epoch 14/20\n",
      "7972/7972 [==============================] - 0s 62us/step - loss: 0.0088 - mean_absolute_error: 0.0837\n",
      "Epoch 15/20\n",
      "7972/7972 [==============================] - 0s 62us/step - loss: 0.0066 - mean_absolute_error: 0.0715\n",
      "Epoch 16/20\n",
      "7972/7972 [==============================] - 0s 61us/step - loss: 0.0049 - mean_absolute_error: 0.0611\n",
      "Epoch 17/20\n",
      "7972/7972 [==============================] - 0s 62us/step - loss: 0.0038 - mean_absolute_error: 0.0530\n",
      "Epoch 18/20\n",
      "7972/7972 [==============================] - 0s 61us/step - loss: 0.0031 - mean_absolute_error: 0.0463\n",
      "Epoch 19/20\n",
      "7972/7972 [==============================] - 0s 62us/step - loss: 0.0026 - mean_absolute_error: 0.0418\n",
      "Epoch 20/20\n",
      "7972/7972 [==============================] - 0s 61us/step - loss: 0.0023 - mean_absolute_error: 0.0395\n"
     ]
    },
    {
     "data": {
      "text/plain": [
       "<keras.callbacks.History at 0x7f41138f3128>"
      ]
     },
     "execution_count": 68,
     "metadata": {
      "tags": []
     },
     "output_type": "execute_result"
    }
   ],
   "source": [
    "model.fit(X_train,y_train,batch_size=32, epochs=20, verbose=1)"
   ]
  },
  {
   "cell_type": "code",
   "execution_count": 0,
   "metadata": {
    "colab": {
     "base_uri": "https://localhost:8080/",
     "height": 303
    },
    "colab_type": "code",
    "id": "IahSPVWcuZid",
    "outputId": "8488a4f0-08db-4f24-bbc2-574ca704288f"
   },
   "outputs": [
    {
     "name": "stderr",
     "output_type": "stream",
     "text": [
      "No handles with labels found to put in legend.\n"
     ]
    },
    {
     "data": {
      "text/plain": [
       "<matplotlib.legend.Legend at 0x7f4110e9c9b0>"
      ]
     },
     "execution_count": 69,
     "metadata": {
      "tags": []
     },
     "output_type": "execute_result"
    },
    {
     "data": {
      "image/png": "[encoded data removed]",
      "text/plain": [
       "<Figure size 432x288 with 1 Axes>"
      ]
     },
     "metadata": {
      "tags": []
     },
     "output_type": "display_data"
    }
   ],
   "source": [
    "y_pred = model.predict(X_test)\n",
    "plt.plot(y_test)\n",
    "plt.plot(y_pred)\n",
    "plt.legend()"
   ]
  },
  {
   "cell_type": "code",
   "execution_count": 0,
   "metadata": {
    "colab": {
     "base_uri": "https://localhost:8080/",
     "height": 51
    },
    "colab_type": "code",
    "id": "UuEhLHAUvGiB",
    "outputId": "7e831386-e78c-4b13-df18-6c39547f3e93"
   },
   "outputs": [
    {
     "name": "stdout",
     "output_type": "stream",
     "text": [
      "MSE: 0.071953\n",
      "\r",
      "2: -1.524538\n"
     ]
    }
   ],
   "source": [
    "mse = mean_squared_error(y_test, y_pred)\n",
    "r2 = r2_score(y_test, y_pred)\n",
    "print('MSE: %f' % mse)\n",
    "print('\\r2: %f' % r2)"
   ]
  },
  {
   "cell_type": "markdown",
   "metadata": {
    "colab_type": "text",
    "id": "SEm-U6NvwpwH"
   },
   "source": [
    "## Multiple hidden layers"
   ]
  },
  {
   "cell_type": "code",
   "execution_count": 0,
   "metadata": {
    "colab": {},
    "colab_type": "code",
    "id": "4HQLmJtJxK3u"
   },
   "outputs": [],
   "source": [
    "from keras.layers import Dropout"
   ]
  },
  {
   "cell_type": "code",
   "execution_count": 0,
   "metadata": {
    "colab": {
     "base_uri": "https://localhost:8080/",
     "height": 734
    },
    "colab_type": "code",
    "id": "eBo1y8qJwpNl",
    "outputId": "574e4f63-e57d-4f07-a3ea-5bd83e6f66b0"
   },
   "outputs": [
    {
     "name": "stdout",
     "output_type": "stream",
     "text": [
      "Epoch 1/20\n",
      "7972/7972 [==============================] - 1s 185us/step - loss: 0.0017 - mean_absolute_error: 0.0105\n",
      "Epoch 2/20\n",
      "7972/7972 [==============================] - 1s 163us/step - loss: 1.0618e-05 - mean_absolute_error: 0.0019\n",
      "Epoch 3/20\n",
      "7972/7972 [==============================] - 1s 161us/step - loss: 1.0834e-05 - mean_absolute_error: 0.0019\n",
      "Epoch 4/20\n",
      "7972/7972 [==============================] - 1s 162us/step - loss: 1.1746e-05 - mean_absolute_error: 0.0021\n",
      "Epoch 5/20\n",
      "7972/7972 [==============================] - 1s 160us/step - loss: 1.2931e-05 - mean_absolute_error: 0.0023\n",
      "Epoch 6/20\n",
      "7972/7972 [==============================] - 1s 162us/step - loss: 1.0971e-05 - mean_absolute_error: 0.0020\n",
      "Epoch 7/20\n",
      "7972/7972 [==============================] - 1s 161us/step - loss: 1.4695e-05 - mean_absolute_error: 0.0024\n",
      "Epoch 8/20\n",
      "7972/7972 [==============================] - 1s 160us/step - loss: 1.5479e-05 - mean_absolute_error: 0.0026\n",
      "Epoch 9/20\n",
      "7972/7972 [==============================] - 1s 162us/step - loss: 1.7587e-05 - mean_absolute_error: 0.0028\n",
      "Epoch 10/20\n",
      "7972/7972 [==============================] - 1s 162us/step - loss: 1.5832e-05 - mean_absolute_error: 0.0026\n",
      "Epoch 11/20\n",
      "7972/7972 [==============================] - 1s 166us/step - loss: 1.6511e-05 - mean_absolute_error: 0.0027\n",
      "Epoch 12/20\n",
      "7972/7972 [==============================] - 1s 160us/step - loss: 1.6576e-05 - mean_absolute_error: 0.0027\n",
      "Epoch 13/20\n",
      "7972/7972 [==============================] - 1s 160us/step - loss: 1.4571e-05 - mean_absolute_error: 0.0025\n",
      "Epoch 14/20\n",
      "7972/7972 [==============================] - 1s 161us/step - loss: 1.7987e-05 - mean_absolute_error: 0.0028\n",
      "Epoch 15/20\n",
      "7972/7972 [==============================] - 1s 161us/step - loss: 1.7042e-05 - mean_absolute_error: 0.0027\n",
      "Epoch 16/20\n",
      "7972/7972 [==============================] - 1s 162us/step - loss: 1.4960e-05 - mean_absolute_error: 0.0025\n",
      "Epoch 17/20\n",
      "7972/7972 [==============================] - 1s 160us/step - loss: 1.6628e-05 - mean_absolute_error: 0.0027\n",
      "Epoch 18/20\n",
      "7972/7972 [==============================] - 1s 163us/step - loss: 1.5425e-05 - mean_absolute_error: 0.0026\n",
      "Epoch 19/20\n",
      "7972/7972 [==============================] - 1s 160us/step - loss: 1.9013e-05 - mean_absolute_error: 0.0030\n",
      "Epoch 20/20\n",
      "7972/7972 [==============================] - 1s 161us/step - loss: 1.5912e-05 - mean_absolute_error: 0.0027\n"
     ]
    },
    {
     "data": {
      "text/plain": [
       "<keras.callbacks.History at 0x7f41106107b8>"
      ]
     },
     "execution_count": 72,
     "metadata": {
      "tags": []
     },
     "output_type": "execute_result"
    }
   ],
   "source": [
    "k.clear_session()\n",
    "model = models.Sequential()\n",
    "model.add(layers.Dense(units=64,activation='relu',input_shape=(X_train.shape[1],)))\n",
    "model.add(layers.Dense(units=64,activation='relu'))\n",
    "model.add(layers.Dense(units=1))\n",
    "model.compile(optimizer=optimizers.Adam(lr=0.001),loss=losses.mean_squared_error,\n",
    "              metrics=[metrics.MAE])\n",
    "model.fit(X_train, y_train, batch_size=16, epochs=20, verbose=1)"
   ]
  },
  {
   "cell_type": "code",
   "execution_count": 0,
   "metadata": {
    "colab": {
     "base_uri": "https://localhost:8080/",
     "height": 286
    },
    "colab_type": "code",
    "id": "hlcnO9_WwAVu",
    "outputId": "3167a4eb-f888-48a5-b40b-a328c51bbec2"
   },
   "outputs": [
    {
     "data": {
      "text/plain": [
       "<matplotlib.legend.Legend at 0x7f410da98550>"
      ]
     },
     "execution_count": 73,
     "metadata": {
      "tags": []
     },
     "output_type": "execute_result"
    },
    {
     "data": {
      "image/png": "[encoded data removed]",
      "text/plain": [
       "<Figure size 432x288 with 1 Axes>"
      ]
     },
     "metadata": {
      "tags": []
     },
     "output_type": "display_data"
    }
   ],
   "source": [
    "y_pred = model.predict(X_test)\n",
    "plt.plot(y_test,label='True label')\n",
    "plt.plot(y_pred,label ='Predicted label')\n",
    "plt.legend()"
   ]
  },
  {
   "cell_type": "code",
   "execution_count": 0,
   "metadata": {
    "colab": {
     "base_uri": "https://localhost:8080/",
     "height": 51
    },
    "colab_type": "code",
    "id": "QpMl07RsgbKj",
    "outputId": "3c33914c-6b9e-4848-b5ee-60549b33e907"
   },
   "outputs": [
    {
     "name": "stdout",
     "output_type": "stream",
     "text": [
      "MSE: 0.071953\n",
      "\r",
      "2: -1.524538\n"
     ]
    }
   ],
   "source": [
    "mse = mean_squared_error(y_test, y_pred)\n",
    "r2 = r2_score(y_test, y_pred)\n",
    "print('MSE: %f' % mse)\n",
    "print('\\r2: %f' % r2)"
   ]
  },
  {
   "cell_type": "code",
   "execution_count": 0,
   "metadata": {
    "colab": {
     "base_uri": "https://localhost:8080/",
     "height": 734
    },
    "colab_type": "code",
    "id": "lyEAYjTqrdYy",
    "outputId": "f9cbde38-5bd2-4b80-9cdd-9e71c4886b1e"
   },
   "outputs": [
    {
     "name": "stdout",
     "output_type": "stream",
     "text": [
      "Epoch 1/20\n",
      "7972/7972 [==============================] - 2s 219us/step - loss: 0.0169 - mean_absolute_error: 0.0810\n",
      "Epoch 2/20\n",
      "7972/7972 [==============================] - 1s 177us/step - loss: 0.0053 - mean_absolute_error: 0.0523\n",
      "Epoch 3/20\n",
      "7972/7972 [==============================] - 1s 179us/step - loss: 0.0046 - mean_absolute_error: 0.0493\n",
      "Epoch 4/20\n",
      "7972/7972 [==============================] - 1s 177us/step - loss: 0.0042 - mean_absolute_error: 0.0478\n",
      "Epoch 5/20\n",
      "7972/7972 [==============================] - 1s 179us/step - loss: 0.0038 - mean_absolute_error: 0.0458\n",
      "Epoch 6/20\n",
      "7972/7972 [==============================] - 1s 178us/step - loss: 0.0035 - mean_absolute_error: 0.0443\n",
      "Epoch 7/20\n",
      "7972/7972 [==============================] - 1s 178us/step - loss: 0.0034 - mean_absolute_error: 0.0443\n",
      "Epoch 8/20\n",
      "7972/7972 [==============================] - 1s 181us/step - loss: 0.0034 - mean_absolute_error: 0.0441\n",
      "Epoch 9/20\n",
      "7972/7972 [==============================] - 1s 178us/step - loss: 0.0035 - mean_absolute_error: 0.0447\n",
      "Epoch 10/20\n",
      "7972/7972 [==============================] - 1s 180us/step - loss: 0.0033 - mean_absolute_error: 0.0440\n",
      "Epoch 11/20\n",
      "7972/7972 [==============================] - 1s 177us/step - loss: 0.0031 - mean_absolute_error: 0.0421\n",
      "Epoch 12/20\n",
      "7972/7972 [==============================] - 1s 179us/step - loss: 0.0032 - mean_absolute_error: 0.0434\n",
      "Epoch 13/20\n",
      "7972/7972 [==============================] - 1s 178us/step - loss: 0.0031 - mean_absolute_error: 0.0422\n",
      "Epoch 14/20\n",
      "7972/7972 [==============================] - 1s 176us/step - loss: 0.0031 - mean_absolute_error: 0.0421\n",
      "Epoch 15/20\n",
      "7972/7972 [==============================] - 1s 182us/step - loss: 0.0031 - mean_absolute_error: 0.0416\n",
      "Epoch 16/20\n",
      "7972/7972 [==============================] - 1s 183us/step - loss: 0.0030 - mean_absolute_error: 0.0414\n",
      "Epoch 17/20\n",
      "7972/7972 [==============================] - 1s 176us/step - loss: 0.0029 - mean_absolute_error: 0.0405\n",
      "Epoch 18/20\n",
      "7972/7972 [==============================] - 1s 180us/step - loss: 0.0028 - mean_absolute_error: 0.0403\n",
      "Epoch 19/20\n",
      "7972/7972 [==============================] - 1s 179us/step - loss: 0.0027 - mean_absolute_error: 0.0391\n",
      "Epoch 20/20\n",
      "7972/7972 [==============================] - 1s 178us/step - loss: 0.0028 - mean_absolute_error: 0.0399\n"
     ]
    },
    {
     "data": {
      "text/plain": [
       "<keras.callbacks.History at 0x7f411468e5f8>"
      ]
     },
     "execution_count": 75,
     "metadata": {
      "tags": []
     },
     "output_type": "execute_result"
    }
   ],
   "source": [
    "#With dropout\n",
    "k.clear_session()\n",
    "model = models.Sequential()\n",
    "model.add(layers.Dense(units=64,activation='relu',input_shape=(X_train.shape[1],)))\n",
    "model.add(layers.Dropout(rate=0.2))\n",
    "model.add(layers.Dense(units=64,activation='relu'))\n",
    "model.add(layers.Dropout(rate=0.2))\n",
    "model.add(layers.Dense(units=1))\n",
    "model.compile(optimizer=optimizers.Adam(lr=0.001),loss=losses.mean_squared_error,\n",
    "              metrics=[metrics.MAE])\n",
    "model.fit(X_train, y_train, batch_size=16, epochs=20, verbose=1)"
   ]
  },
  {
   "cell_type": "code",
   "execution_count": 0,
   "metadata": {
    "colab": {
     "base_uri": "https://localhost:8080/",
     "height": 269
    },
    "colab_type": "code",
    "id": "u99Ti-XbrdWM",
    "outputId": "0037d647-333f-4d06-b841-aad5022b2d8a"
   },
   "outputs": [
    {
     "data": {
      "image/png": "[encoded data removed]",
      "text/plain": [
       "<Figure size 432x288 with 1 Axes>"
      ]
     },
     "metadata": {
      "tags": []
     },
     "output_type": "display_data"
    }
   ],
   "source": [
    "y_pred = model.predict(X_test)\n",
    "plt.plot(y_test,label='True label')\n",
    "plt.plot(y_pred,label ='Predicted label')\n",
    "plt.legend()\n",
    "plt.show()"
   ]
  },
  {
   "cell_type": "code",
   "execution_count": 0,
   "metadata": {
    "colab": {
     "base_uri": "https://localhost:8080/",
     "height": 51
    },
    "colab_type": "code",
    "id": "FDoi3km5rdTc",
    "outputId": "a1533321-5fc3-457a-9c39-5a8bea47d538"
   },
   "outputs": [
    {
     "name": "stdout",
     "output_type": "stream",
     "text": [
      "MSE: 0.071953\n",
      "\r",
      "2: -1.524538\n"
     ]
    }
   ],
   "source": [
    "mse = mean_squared_error(y_test, y_pred)\n",
    "r2 = r2_score(y_test, y_pred)\n",
    "print('MSE: %f' % mse)\n",
    "print('\\r2: %f' % r2)"
   ]
  },
  {
   "cell_type": "markdown",
   "metadata": {
    "colab_type": "text",
    "id": "1rHapYGO4E1D"
   },
   "source": [
    "# 60 Timesteps Ahead"
   ]
  },
  {
   "cell_type": "markdown",
   "metadata": {
    "colab_type": "text",
    "id": "121TxfIv8HSX"
   },
   "source": [
    "## LSTM"
   ]
  },
  {
   "cell_type": "code",
   "execution_count": 0,
   "metadata": {
    "colab": {},
    "colab_type": "code",
    "id": "CuF7qJbc4D5j"
   },
   "outputs": [],
   "source": []
  },
  {
   "cell_type": "code",
   "execution_count": 0,
   "metadata": {
    "colab": {
     "base_uri": "https://localhost:8080/",
     "height": 204
    },
    "colab_type": "code",
    "id": "UH382-GhurW8",
    "outputId": "7b9c2bc4-1a30-4ada-a3e5-10c011fee6c7"
   },
   "outputs": [
    {
     "data": {
      "text/html": [
       "<div>\n",
       "<style scoped>\n",
       "    .dataframe tbody tr th:only-of-type {\n",
       "        vertical-align: middle;\n",
       "    }\n",
       "\n",
       "    .dataframe tbody tr th {\n",
       "        vertical-align: top;\n",
       "    }\n",
       "\n",
       "    .dataframe thead th {\n",
       "        text-align: right;\n",
       "    }\n",
       "</style>\n",
       "<table border=\"1\" class=\"dataframe\">\n",
       "  <thead>\n",
       "    <tr style=\"text-align: right;\">\n",
       "      <th></th>\n",
       "      <th>Date</th>\n",
       "      <th>Price</th>\n",
       "      <th>Open</th>\n",
       "      <th>High</th>\n",
       "      <th>Low</th>\n",
       "      <th>Change %</th>\n",
       "    </tr>\n",
       "  </thead>\n",
       "  <tbody>\n",
       "    <tr>\n",
       "      <th>0</th>\n",
       "      <td>2019-04-17</td>\n",
       "      <td>69.445</td>\n",
       "      <td>69.895</td>\n",
       "      <td>69.895</td>\n",
       "      <td>69.331</td>\n",
       "      <td>-0.64%</td>\n",
       "    </tr>\n",
       "    <tr>\n",
       "      <th>1</th>\n",
       "      <td>2019-04-16</td>\n",
       "      <td>69.895</td>\n",
       "      <td>69.820</td>\n",
       "      <td>69.895</td>\n",
       "      <td>69.396</td>\n",
       "      <td>0.72%</td>\n",
       "    </tr>\n",
       "    <tr>\n",
       "      <th>2</th>\n",
       "      <td>2019-04-15</td>\n",
       "      <td>69.395</td>\n",
       "      <td>69.174</td>\n",
       "      <td>69.483</td>\n",
       "      <td>69.045</td>\n",
       "      <td>0.32%</td>\n",
       "    </tr>\n",
       "    <tr>\n",
       "      <th>3</th>\n",
       "      <td>2019-04-14</td>\n",
       "      <td>69.171</td>\n",
       "      <td>69.171</td>\n",
       "      <td>69.171</td>\n",
       "      <td>69.171</td>\n",
       "      <td>-0.03%</td>\n",
       "    </tr>\n",
       "    <tr>\n",
       "      <th>4</th>\n",
       "      <td>2019-04-12</td>\n",
       "      <td>69.190</td>\n",
       "      <td>69.030</td>\n",
       "      <td>69.390</td>\n",
       "      <td>69.030</td>\n",
       "      <td>0.25%</td>\n",
       "    </tr>\n",
       "  </tbody>\n",
       "</table>\n",
       "</div>"
      ],
      "text/plain": [
       "        Date   Price    Open    High     Low Change %\n",
       "0 2019-04-17  69.445  69.895  69.895  69.331   -0.64%\n",
       "1 2019-04-16  69.895  69.820  69.895  69.396    0.72%\n",
       "2 2019-04-15  69.395  69.174  69.483  69.045    0.32%\n",
       "3 2019-04-14  69.171  69.171  69.171  69.171   -0.03%\n",
       "4 2019-04-12  69.190  69.030  69.390  69.030    0.25%"
      ]
     },
     "execution_count": 15,
     "metadata": {
      "tags": []
     },
     "output_type": "execute_result"
    }
   ],
   "source": [
    "df.head()"
   ]
  },
  {
   "cell_type": "code",
   "execution_count": 0,
   "metadata": {
    "colab": {},
    "colab_type": "code",
    "id": "SiXVBKoN8Xe0"
   },
   "outputs": [],
   "source": [
    "test = df.iloc[:400,1:2]\n",
    "train = df.iloc[401:,1:2]"
   ]
  },
  {
   "cell_type": "code",
   "execution_count": 0,
   "metadata": {
    "colab": {
     "base_uri": "https://localhost:8080/",
     "height": 286
    },
    "colab_type": "code",
    "id": "aY5aByhWvPJI",
    "outputId": "ce235974-a40a-4ebe-ddc3-ba243457d599"
   },
   "outputs": [
    {
     "data": {
      "text/plain": [
       "[<matplotlib.lines.Line2D at 0x7f332af10128>]"
      ]
     },
     "execution_count": 97,
     "metadata": {
      "tags": []
     },
     "output_type": "execute_result"
    },
    {
     "data": {
      "image/png": "[encoded data removed]",
      "text/plain": [
       "<Figure size 432x288 with 1 Axes>"
      ]
     },
     "metadata": {
      "tags": []
     },
     "output_type": "display_data"
    }
   ],
   "source": [
    "plt.plot(np.flip(test.values))"
   ]
  },
  {
   "cell_type": "code",
   "execution_count": 0,
   "metadata": {
    "colab": {},
    "colab_type": "code",
    "id": "92yHkso-gf2o"
   },
   "outputs": [],
   "source": [
    "training = train.values\n",
    "training = np.flip(training)"
   ]
  },
  {
   "cell_type": "code",
   "execution_count": 0,
   "metadata": {
    "colab": {
     "base_uri": "https://localhost:8080/",
     "height": 286
    },
    "colab_type": "code",
    "id": "4C5JpP5xvl9s",
    "outputId": "79a58b5e-d6ef-4244-c7df-2689b5368ccf"
   },
   "outputs": [
    {
     "data": {
      "text/plain": [
       "[<matplotlib.lines.Line2D at 0x7f414d81e2b0>]"
      ]
     },
     "execution_count": 18,
     "metadata": {
      "tags": []
     },
     "output_type": "execute_result"
    },
    {
     "data": {
      "image/png": "[encoded data removed]",
      "text/plain": [
       "<Figure size 432x288 with 1 Axes>"
      ]
     },
     "metadata": {
      "tags": []
     },
     "output_type": "display_data"
    }
   ],
   "source": [
    "plt.plot(training)"
   ]
  },
  {
   "cell_type": "code",
   "execution_count": 0,
   "metadata": {
    "colab": {},
    "colab_type": "code",
    "id": "3bAA4B7M89pg"
   },
   "outputs": [],
   "source": [
    "# Feature Scaling\n",
    "from sklearn.preprocessing import MinMaxScaler\n",
    "sc = MinMaxScaler(feature_range = (0, 1))\n",
    "train_scaled = sc.fit_transform(training)\n"
   ]
  },
  {
   "cell_type": "code",
   "execution_count": 0,
   "metadata": {
    "colab": {
     "base_uri": "https://localhost:8080/",
     "height": 34
    },
    "colab_type": "code",
    "id": "IyD7x35CXH_5",
    "outputId": "15194f42-3fcc-4531-8057-0feca333b5bc"
   },
   "outputs": [
    {
     "data": {
      "text/plain": [
       "10106"
      ]
     },
     "execution_count": 83,
     "metadata": {
      "tags": []
     },
     "output_type": "execute_result"
    }
   ],
   "source": [
    "train.shape[0]"
   ]
  },
  {
   "cell_type": "code",
   "execution_count": 0,
   "metadata": {
    "colab": {},
    "colab_type": "code",
    "id": "bGOA2vbl9D1z"
   },
   "outputs": [],
   "source": [
    "# Creating a data structure with 60 timesteps and 1 output\n",
    "X_train = []\n",
    "y_train = []\n",
    "for i in range(60, train.shape[0]):\n",
    "    X_train.append(train_scaled[i-60:i, 0])\n",
    "    y_train.append(train_scaled[i, 0])\n",
    "X_train, y_train = np.array(X_train), np.array(y_train)"
   ]
  },
  {
   "cell_type": "code",
   "execution_count": 0,
   "metadata": {
    "colab": {},
    "colab_type": "code",
    "id": "DHgi7Erg9EVI"
   },
   "outputs": [],
   "source": [
    "X_train = np.reshape(X_train, (X_train.shape[0], X_train.shape[1], 1))"
   ]
  },
  {
   "cell_type": "code",
   "execution_count": 0,
   "metadata": {
    "colab": {
     "base_uri": "https://localhost:8080/",
     "height": 1907
    },
    "colab_type": "code",
    "id": "HZ7sI4kY9S79",
    "outputId": "7e76a587-6fbf-4f6d-8b37-0bed01eb49e1"
   },
   "outputs": [
    {
     "name": "stdout",
     "output_type": "stream",
     "text": [
      "WARNING:tensorflow:From /usr/local/lib/python3.6/dist-packages/tensorflow/python/framework/op_def_library.py:263: colocate_with (from tensorflow.python.framework.ops) is deprecated and will be removed in a future version.\n",
      "Instructions for updating:\n",
      "Colocations handled automatically by placer.\n",
      "WARNING:tensorflow:From /usr/local/lib/python3.6/dist-packages/keras/backend/tensorflow_backend.py:3445: calling dropout (from tensorflow.python.ops.nn_ops) with keep_prob is deprecated and will be removed in a future version.\n",
      "Instructions for updating:\n",
      "Please use `rate` instead of `keep_prob`. Rate should be set to `rate = 1 - keep_prob`.\n",
      "WARNING:tensorflow:From /usr/local/lib/python3.6/dist-packages/tensorflow/python/ops/math_ops.py:3066: to_int32 (from tensorflow.python.ops.math_ops) is deprecated and will be removed in a future version.\n",
      "Instructions for updating:\n",
      "Use tf.cast instead.\n",
      "Epoch 1/50\n",
      "9722/9722 [==============================] - 105s 11ms/step - loss: 0.0091\n",
      "Epoch 2/50\n",
      "9722/9722 [==============================] - 100s 10ms/step - loss: 0.0023\n",
      "Epoch 3/50\n",
      "9722/9722 [==============================] - 100s 10ms/step - loss: 0.0019\n",
      "Epoch 4/50\n",
      "9722/9722 [==============================] - 99s 10ms/step - loss: 0.0018\n",
      "Epoch 5/50\n",
      "9722/9722 [==============================] - 101s 10ms/step - loss: 0.0017\n",
      "Epoch 6/50\n",
      "9722/9722 [==============================] - 100s 10ms/step - loss: 0.0014\n",
      "Epoch 7/50\n",
      "9722/9722 [==============================] - 99s 10ms/step - loss: 0.0014\n",
      "Epoch 8/50\n",
      "9722/9722 [==============================] - 99s 10ms/step - loss: 0.0013\n",
      "Epoch 9/50\n",
      "9722/9722 [==============================] - 101s 10ms/step - loss: 0.0011\n",
      "Epoch 10/50\n",
      "9722/9722 [==============================] - 101s 10ms/step - loss: 0.0010\n",
      "Epoch 11/50\n",
      "9722/9722 [==============================] - 102s 10ms/step - loss: 9.6397e-04\n",
      "Epoch 12/50\n",
      "9722/9722 [==============================] - 102s 11ms/step - loss: 0.0010\n",
      "Epoch 13/50\n",
      "9722/9722 [==============================] - 102s 11ms/step - loss: 8.6115e-04\n",
      "Epoch 14/50\n",
      "9722/9722 [==============================] - 102s 10ms/step - loss: 8.9762e-04\n",
      "Epoch 15/50\n",
      "9722/9722 [==============================] - 101s 10ms/step - loss: 8.2234e-04\n",
      "Epoch 16/50\n",
      "9722/9722 [==============================] - 101s 10ms/step - loss: 8.2093e-04\n",
      "Epoch 17/50\n",
      "9722/9722 [==============================] - 103s 11ms/step - loss: 7.8481e-04\n",
      "Epoch 18/50\n",
      "9722/9722 [==============================] - 102s 11ms/step - loss: 8.0275e-04\n",
      "Epoch 19/50\n",
      "9722/9722 [==============================] - 101s 10ms/step - loss: 8.8885e-04\n",
      "Epoch 20/50\n",
      "9722/9722 [==============================] - 102s 10ms/step - loss: 7.8317e-04\n",
      "Epoch 21/50\n",
      "9722/9722 [==============================] - 103s 11ms/step - loss: 7.2483e-04\n",
      "Epoch 22/50\n",
      "9722/9722 [==============================] - 101s 10ms/step - loss: 7.1108e-04\n",
      "Epoch 23/50\n",
      "9722/9722 [==============================] - 101s 10ms/step - loss: 7.7304e-04\n",
      "Epoch 24/50\n",
      "9722/9722 [==============================] - 103s 11ms/step - loss: 7.4089e-04\n",
      "Epoch 25/50\n",
      "9722/9722 [==============================] - 101s 10ms/step - loss: 7.2635e-04\n",
      "Epoch 26/50\n",
      "9722/9722 [==============================] - 101s 10ms/step - loss: 7.1914e-04\n",
      "Epoch 27/50\n",
      "9722/9722 [==============================] - 102s 10ms/step - loss: 6.9937e-04\n",
      "Epoch 28/50\n",
      "9722/9722 [==============================] - 102s 10ms/step - loss: 7.6623e-04\n",
      "Epoch 29/50\n",
      "9722/9722 [==============================] - 101s 10ms/step - loss: 7.1033e-04\n",
      "Epoch 30/50\n",
      "9722/9722 [==============================] - 102s 10ms/step - loss: 6.8096e-04\n",
      "Epoch 31/50\n",
      "9722/9722 [==============================] - 100s 10ms/step - loss: 6.6429e-04\n",
      "Epoch 32/50\n",
      "9722/9722 [==============================] - 102s 11ms/step - loss: 7.0087e-04\n",
      "Epoch 33/50\n",
      "9722/9722 [==============================] - 102s 10ms/step - loss: 7.1359e-04\n",
      "Epoch 34/50\n",
      "9722/9722 [==============================] - 100s 10ms/step - loss: 7.0955e-04\n",
      "Epoch 35/50\n",
      "9722/9722 [==============================] - 101s 10ms/step - loss: 7.2689e-04\n",
      "Epoch 36/50\n",
      "9722/9722 [==============================] - 102s 10ms/step - loss: 6.7142e-04\n",
      "Epoch 37/50\n",
      "9722/9722 [==============================] - 100s 10ms/step - loss: 7.4078e-04\n",
      "Epoch 38/50\n",
      "9722/9722 [==============================] - 101s 10ms/step - loss: 6.4595e-04\n",
      "Epoch 39/50\n",
      "9722/9722 [==============================] - 102s 10ms/step - loss: 6.5530e-04\n",
      "Epoch 40/50\n",
      "9722/9722 [==============================] - 102s 10ms/step - loss: 6.8436e-04\n",
      "Epoch 41/50\n",
      "9722/9722 [==============================] - 101s 10ms/step - loss: 6.6901e-04\n",
      "Epoch 42/50\n",
      "9722/9722 [==============================] - 101s 10ms/step - loss: 6.9437e-04\n",
      "Epoch 43/50\n",
      "9722/9722 [==============================] - 101s 10ms/step - loss: 6.2615e-04\n",
      "Epoch 44/50\n",
      "9722/9722 [==============================] - 102s 10ms/step - loss: 6.2911e-04\n",
      "Epoch 45/50\n",
      "9722/9722 [==============================] - 100s 10ms/step - loss: 6.5434e-04\n",
      "Epoch 46/50\n",
      "9722/9722 [==============================] - 102s 10ms/step - loss: 6.5354e-04\n",
      "Epoch 47/50\n",
      "9722/9722 [==============================] - 101s 10ms/step - loss: 6.1638e-04\n",
      "Epoch 48/50\n",
      "9722/9722 [==============================] - 101s 10ms/step - loss: 6.4236e-04\n",
      "Epoch 49/50\n",
      "9722/9722 [==============================] - 102s 10ms/step - loss: 6.3452e-04\n",
      "Epoch 50/50\n",
      "9722/9722 [==============================] - 101s 10ms/step - loss: 6.0836e-04\n"
     ]
    },
    {
     "data": {
      "text/plain": [
       "<keras.callbacks.History at 0x7f414c8bdc88>"
      ]
     },
     "execution_count": 23,
     "metadata": {
      "tags": []
     },
     "output_type": "execute_result"
    }
   ],
   "source": [
    "lstm = Sequential()\n",
    "# Layer 1: LSTM layer with Dropout regularisation\n",
    "lstm.add(LSTM(units = 50, return_sequences = True, input_shape = (X_train.shape[1], 1)))\n",
    "lstm.add(Dropout(0.2))\n",
    "# Layer 2: LSTM layer with Dropout regularisation\n",
    "lstm.add(LSTM(units = 50, return_sequences = True))\n",
    "lstm.add(Dropout(0.2))\n",
    "# Layer 3: LSTM layer with Dropout regularisation\n",
    "lstm.add(LSTM(units = 50, return_sequences = True))\n",
    "lstm.add(Dropout(0.2))\n",
    "# Layer 4: LSTM layer with Dropout regularisation\n",
    "lstm.add(LSTM(units = 50))\n",
    "lstm.add(Dropout(0.2))\n",
    "# output layer\n",
    "lstm.add(Dense(units = 1))\n",
    "# Compiling the RNN\n",
    "lstm.compile(optimizer = 'adam', loss = 'mean_squared_error')\n",
    "# Fitting the model\n",
    "lstm.fit(X_train, y_train, epochs = 50, batch_size = 32)"
   ]
  },
  {
   "cell_type": "code",
   "execution_count": 0,
   "metadata": {
    "colab": {},
    "colab_type": "code",
    "id": "IXYoRvzUydgv"
   },
   "outputs": [],
   "source": [
    "#saving the model\n",
    "from keras.models import load_model\n",
    "lstm.save('LSTM.h5')\n",
    "#loading the model\n",
    "lstm = load_model('LSTM.h5')"
   ]
  },
  {
   "cell_type": "code",
   "execution_count": 0,
   "metadata": {
    "colab": {},
    "colab_type": "code",
    "id": "uN6BjzRq9eYy"
   },
   "outputs": [],
   "source": [
    "y_true = test.values\n",
    "y_true = np.flip(y_true)"
   ]
  },
  {
   "cell_type": "code",
   "execution_count": 0,
   "metadata": {
    "colab": {},
    "colab_type": "code",
    "id": "OIA3LioaJj6I"
   },
   "outputs": [],
   "source": [
    "# Getting the predicted stock price \n",
    "dataset_total = pd.concat((df.iloc[401:]['Open'], df.iloc[:400]['Open']), axis = 0)\n",
    "inputs = dataset_total[len(dataset_total) - len(test) - 60:].values\n",
    "inputs = inputs.reshape(-1,1)\n",
    "inputs = sc.transform(inputs)\n",
    "X_test = []\n",
    "for i in range(60, 460):\n",
    "    X_test.append(inputs[i-60:i, 0])\n",
    "X_test = np.array(X_test)\n",
    "X_test = np.reshape(X_test, (X_test.shape[0], X_test.shape[1], 1))\n",
    "y_test = lstm.predict(X_test)\n",
    "y_test = sc.inverse_transform(y_test)"
   ]
  },
  {
   "cell_type": "code",
   "execution_count": 0,
   "metadata": {
    "colab": {
     "base_uri": "https://localhost:8080/",
     "height": 295
    },
    "colab_type": "code",
    "id": "4SLJBZXBJtxV",
    "outputId": "645187a7-fa15-45c0-ca82-6b2a50ef1be4"
   },
   "outputs": [
    {
     "data": {
      "image/png": "[encoded data removed]",
      "text/plain": [
       "<Figure size 432x288 with 1 Axes>"
      ]
     },
     "metadata": {
      "tags": []
     },
     "output_type": "display_data"
    }
   ],
   "source": [
    "# Visualising the results\n",
    "plt.plot(y_true, color = 'red', label = 'True Label')\n",
    "plt.plot(y_test, color = 'blue', label = 'Predicted Label')\n",
    "plt.title('USD-INR Stock Price Prediction')\n",
    "plt.xlabel('Time')\n",
    "plt.ylabel('INR Stock Price')\n",
    "plt.legend()\n",
    "plt.show()"
   ]
  },
  {
   "cell_type": "code",
   "execution_count": 0,
   "metadata": {
    "colab": {
     "base_uri": "https://localhost:8080/",
     "height": 51
    },
    "colab_type": "code",
    "id": "WKUQe080rP83",
    "outputId": "1df74ea7-a95d-40ce-9761-993f526829f4"
   },
   "outputs": [
    {
     "name": "stdout",
     "output_type": "stream",
     "text": [
      "MSE: 58.057675\n",
      "\r",
      "2: -5.609884\n"
     ]
    }
   ],
   "source": [
    "mse = mean_squared_error(y_true, y_test)\n",
    "r2 = r2_score(y_true, y_test)\n",
    "print('MSE: %f' % mse)\n",
    "print('\\nr2: %f' % r2)"
   ]
  },
  {
   "cell_type": "markdown",
   "metadata": {
    "colab_type": "text",
    "id": "rT8Oblaxm-Xa"
   },
   "source": [
    "## DNN single layer"
   ]
  },
  {
   "cell_type": "code",
   "execution_count": 0,
   "metadata": {
    "colab": {},
    "colab_type": "code",
    "id": "kWeNvsYSm9FF"
   },
   "outputs": [],
   "source": [
    "# Creating a data structure with 60 timesteps and 1 output\n",
    "test = df.iloc[:400,1:2]\n",
    "train = df.iloc[401:,1:2]\n",
    "training_set = train.values\n",
    "training_set = np.flip(training_set)\n",
    "real_stock_price = test.values\n",
    "real_stock_price = np.flip(real_stock_price)\n",
    "X_train = []\n",
    "y_train = []\n",
    "for i in range(60, train.shape[0]):\n",
    "    X_train.append(training_set_scaled[i-60:i, 0])\n",
    "    y_train.append(training_set_scaled[i, 0])\n",
    "X_train, y_train = np.array(X_train), np.array(y_train)"
   ]
  },
  {
   "cell_type": "code",
   "execution_count": 0,
   "metadata": {
    "colab": {
     "base_uri": "https://localhost:8080/",
     "height": 734
    },
    "colab_type": "code",
    "id": "3LOiXr2HKuR5",
    "outputId": "b1206580-f700-4ceb-997e-2d05b6eaf958"
   },
   "outputs": [
    {
     "name": "stdout",
     "output_type": "stream",
     "text": [
      "Epoch 1/20\n",
      "9722/9722 [==============================] - 2s 178us/step - loss: 0.0026 - mean_absolute_error: 0.0368\n",
      "Epoch 2/20\n",
      "9722/9722 [==============================] - 1s 72us/step - loss: 0.0024 - mean_absolute_error: 0.0363\n",
      "Epoch 3/20\n",
      "9722/9722 [==============================] - 1s 73us/step - loss: 0.0024 - mean_absolute_error: 0.0360\n",
      "Epoch 4/20\n",
      "9722/9722 [==============================] - 1s 64us/step - loss: 0.0024 - mean_absolute_error: 0.0356\n",
      "Epoch 5/20\n",
      "9722/9722 [==============================] - 1s 63us/step - loss: 0.0023 - mean_absolute_error: 0.0355\n",
      "Epoch 6/20\n",
      "9722/9722 [==============================] - 1s 63us/step - loss: 0.0023 - mean_absolute_error: 0.0351\n",
      "Epoch 7/20\n",
      "9722/9722 [==============================] - 1s 64us/step - loss: 0.0023 - mean_absolute_error: 0.0350\n",
      "Epoch 8/20\n",
      "9722/9722 [==============================] - 1s 62us/step - loss: 0.0023 - mean_absolute_error: 0.0349\n",
      "Epoch 9/20\n",
      "9722/9722 [==============================] - 1s 65us/step - loss: 0.0022 - mean_absolute_error: 0.0345\n",
      "Epoch 10/20\n",
      "9722/9722 [==============================] - 1s 62us/step - loss: 0.0022 - mean_absolute_error: 0.0344\n",
      "Epoch 11/20\n",
      "9722/9722 [==============================] - 1s 64us/step - loss: 0.0022 - mean_absolute_error: 0.0345\n",
      "Epoch 12/20\n",
      "9722/9722 [==============================] - 1s 64us/step - loss: 0.0022 - mean_absolute_error: 0.0342\n",
      "Epoch 13/20\n",
      "9722/9722 [==============================] - 1s 63us/step - loss: 0.0022 - mean_absolute_error: 0.0344\n",
      "Epoch 14/20\n",
      "9722/9722 [==============================] - 1s 64us/step - loss: 0.0022 - mean_absolute_error: 0.0341\n",
      "Epoch 15/20\n",
      "9722/9722 [==============================] - 1s 63us/step - loss: 0.0022 - mean_absolute_error: 0.0339\n",
      "Epoch 16/20\n",
      "9722/9722 [==============================] - 1s 66us/step - loss: 0.0022 - mean_absolute_error: 0.0341\n",
      "Epoch 17/20\n",
      "9722/9722 [==============================] - 1s 64us/step - loss: 0.0022 - mean_absolute_error: 0.0339\n",
      "Epoch 18/20\n",
      "9722/9722 [==============================] - 1s 63us/step - loss: 0.0022 - mean_absolute_error: 0.0338\n",
      "Epoch 19/20\n",
      "9722/9722 [==============================] - 1s 63us/step - loss: 0.0022 - mean_absolute_error: 0.0340\n",
      "Epoch 20/20\n",
      "9722/9722 [==============================] - 1s 63us/step - loss: 0.0022 - mean_absolute_error: 0.0339\n"
     ]
    },
    {
     "data": {
      "text/plain": [
       "<keras.callbacks.History at 0x7f4115917eb8>"
      ]
     },
     "execution_count": 30,
     "metadata": {
      "tags": []
     },
     "output_type": "execute_result"
    }
   ],
   "source": [
    "#k.clear_session()\n",
    "model = models.Sequential()\n",
    "model.add(layers.Dense(units=1,activation='tanh',input_shape = (X_train.shape[1],)))\n",
    "model.compile(optimizer=optimizers.Adam(lr=0.001),loss=losses.mean_squared_error,\n",
    "              metrics=[metrics.MAE])\n",
    "model.fit(X_train,y_train,batch_size=32, epochs=20, verbose=1)"
   ]
  },
  {
   "cell_type": "code",
   "execution_count": 0,
   "metadata": {
    "colab": {},
    "colab_type": "code",
    "id": "6Ni41jLXpDkE"
   },
   "outputs": [],
   "source": [
    "model.save('single.h5')\n",
    "#loading the model\n",
    "single = load_model('single.h5')"
   ]
  },
  {
   "cell_type": "code",
   "execution_count": 0,
   "metadata": {
    "colab": {},
    "colab_type": "code",
    "id": "VzR9is-uov3B"
   },
   "outputs": [],
   "source": [
    "y_true = test.values\n",
    "y_true = np.flip(real_stock_price)\n",
    "# Getting the predicted stock price \n",
    "dataset = pd.concat((df.iloc[401:]['Open'], df.iloc[:400]['Open']), axis = 0)\n",
    "inputs = dataset[len(dataset) - len(test) - 60:].values\n",
    "inputs = inputs.reshape(-1,1)\n",
    "inputs = sc.transform(inputs)\n",
    "X_test = []\n",
    "for i in range(60, 460):\n",
    "    X_test.append(inputs[i-60:i, 0])\n",
    "X_test = np.array(X_test)\n",
    "y_test = single.predict(X_test)\n",
    "y_test = sc.inverse_transform(y_test)"
   ]
  },
  {
   "cell_type": "code",
   "execution_count": 0,
   "metadata": {
    "colab": {
     "base_uri": "https://localhost:8080/",
     "height": 295
    },
    "colab_type": "code",
    "id": "4pkXZwAGovzX",
    "outputId": "d41d5834-a3e1-4e03-c6fa-0fdb9e0cf621"
   },
   "outputs": [
    {
     "data": {
      "image/png": "[encoded data removed]",
      "text/plain": [
       "<Figure size 432x288 with 1 Axes>"
      ]
     },
     "metadata": {
      "tags": []
     },
     "output_type": "display_data"
    }
   ],
   "source": [
    "# Visualising the results\n",
    "plt.plot(y_true, color = 'red', label = 'True Label')\n",
    "plt.plot(y_test, color = 'blue', label = 'Predicted Label')\n",
    "plt.title('USD-INR Stock Price Prediction')\n",
    "plt.xlabel('Time')\n",
    "plt.ylabel('INR Stock Price')\n",
    "plt.legend()\n",
    "plt.show()"
   ]
  },
  {
   "cell_type": "code",
   "execution_count": 0,
   "metadata": {
    "colab": {
     "base_uri": "https://localhost:8080/",
     "height": 51
    },
    "colab_type": "code",
    "id": "zwyCVar3ovu_",
    "outputId": "47339ce8-3c19-4513-c462-042107bb8b47"
   },
   "outputs": [
    {
     "name": "stdout",
     "output_type": "stream",
     "text": [
      "MSE: 143.741302\n",
      "\r",
      "2: -15.364991\n"
     ]
    }
   ],
   "source": [
    "mse = mean_squared_error(y_true, y_test)\n",
    "r2 = r2_score(y_true, y_test)\n",
    "print('MSE: %f' % mse)\n",
    "print('\\r2: %f' % r2)"
   ]
  },
  {
   "cell_type": "markdown",
   "metadata": {
    "colab_type": "text",
    "id": "lAljmsZbo_UW"
   },
   "source": [
    "## DNN Multi Layer"
   ]
  },
  {
   "cell_type": "code",
   "execution_count": 0,
   "metadata": {
    "colab": {
     "base_uri": "https://localhost:8080/",
     "height": 734
    },
    "colab_type": "code",
    "id": "w2IsiPc7lckY",
    "outputId": "152627dc-6bf8-46b2-b6e9-ce7c339964eb"
   },
   "outputs": [
    {
     "name": "stdout",
     "output_type": "stream",
     "text": [
      "Epoch 1/20\n",
      "9722/9722 [==============================] - 3s 300us/step - loss: 0.0185 - mean_absolute_error: 0.0782\n",
      "Epoch 2/20\n",
      "9722/9722 [==============================] - 2s 182us/step - loss: 0.0051 - mean_absolute_error: 0.0490\n",
      "Epoch 3/20\n",
      "9722/9722 [==============================] - 2s 201us/step - loss: 0.0042 - mean_absolute_error: 0.0444\n",
      "Epoch 4/20\n",
      "9722/9722 [==============================] - 2s 211us/step - loss: 0.0037 - mean_absolute_error: 0.0427\n",
      "Epoch 5/20\n",
      "9722/9722 [==============================] - 2s 209us/step - loss: 0.0031 - mean_absolute_error: 0.0395\n",
      "Epoch 6/20\n",
      "9722/9722 [==============================] - 2s 208us/step - loss: 0.0027 - mean_absolute_error: 0.0375\n",
      "Epoch 7/20\n",
      "9722/9722 [==============================] - 2s 208us/step - loss: 0.0025 - mean_absolute_error: 0.0362\n",
      "Epoch 8/20\n",
      "9722/9722 [==============================] - 2s 220us/step - loss: 0.0021 - mean_absolute_error: 0.0340\n",
      "Epoch 9/20\n",
      "9722/9722 [==============================] - 2s 220us/step - loss: 0.0020 - mean_absolute_error: 0.0334\n",
      "Epoch 10/20\n",
      "9722/9722 [==============================] - 2s 221us/step - loss: 0.0020 - mean_absolute_error: 0.0326\n",
      "Epoch 11/20\n",
      "9722/9722 [==============================] - 2s 220us/step - loss: 0.0021 - mean_absolute_error: 0.0335\n",
      "Epoch 12/20\n",
      "9722/9722 [==============================] - 2s 216us/step - loss: 0.0019 - mean_absolute_error: 0.0320\n",
      "Epoch 13/20\n",
      "9722/9722 [==============================] - 2s 183us/step - loss: 0.0019 - mean_absolute_error: 0.0324\n",
      "Epoch 14/20\n",
      "9722/9722 [==============================] - 2s 181us/step - loss: 0.0018 - mean_absolute_error: 0.0312\n",
      "Epoch 15/20\n",
      "9722/9722 [==============================] - 2s 182us/step - loss: 0.0018 - mean_absolute_error: 0.0308\n",
      "Epoch 16/20\n",
      "9722/9722 [==============================] - 2s 182us/step - loss: 0.0018 - mean_absolute_error: 0.0307\n",
      "Epoch 17/20\n",
      "9722/9722 [==============================] - 2s 181us/step - loss: 0.0017 - mean_absolute_error: 0.0301\n",
      "Epoch 18/20\n",
      "9722/9722 [==============================] - 2s 184us/step - loss: 0.0017 - mean_absolute_error: 0.0304\n",
      "Epoch 19/20\n",
      "9722/9722 [==============================] - 2s 192us/step - loss: 0.0017 - mean_absolute_error: 0.0304\n",
      "Epoch 20/20\n",
      "9722/9722 [==============================] - 2s 181us/step - loss: 0.0016 - mean_absolute_error: 0.0295\n"
     ]
    },
    {
     "data": {
      "text/plain": [
       "<keras.callbacks.History at 0x7f41154536a0>"
      ]
     },
     "execution_count": 35,
     "metadata": {
      "tags": []
     },
     "output_type": "execute_result"
    }
   ],
   "source": [
    "#k.clear_session()\n",
    "model = models.Sequential()\n",
    "model.add(layers.Dense(units=64,activation='relu',input_shape=(X_train.shape[1],)))\n",
    "model.add(layers.Dropout(rate=0.2))\n",
    "model.add(layers.Dense(units=64,activation='relu'))\n",
    "model.add(layers.Dropout(rate=0.2))\n",
    "model.add(layers.Dense(units=1))\n",
    "model.compile(optimizer=optimizers.Adam(lr=0.001),loss=losses.mean_squared_error,\n",
    "              metrics=[metrics.MAE])\n",
    "model.fit(X_train, y_train, batch_size=16, epochs=20, verbose=1)"
   ]
  },
  {
   "cell_type": "code",
   "execution_count": 0,
   "metadata": {
    "colab": {},
    "colab_type": "code",
    "id": "WZCm3l_xrxa_"
   },
   "outputs": [],
   "source": [
    "model.save('dnn_60.h5')\n",
    "#loading the model\n",
    "dnn = load_model('dnn_60.h5')"
   ]
  },
  {
   "cell_type": "code",
   "execution_count": 0,
   "metadata": {
    "colab": {},
    "colab_type": "code",
    "id": "mfl86AJvjC6A"
   },
   "outputs": [],
   "source": [
    "# Getting the predicted stock price \n",
    "dataset = pd.concat((df.iloc[401:]['Open'], df.iloc[:400]['Open']), axis = 0)\n",
    "inputs = dataset[len(dataset) - len(test) - 60:].values\n",
    "inputs = inputs.reshape(-1,1)\n",
    "inputs = sc.transform(inputs)\n",
    "X_test = []\n",
    "for i in range(60, 460):\n",
    "    X_test.append(inputs[i-60:i, 0])\n",
    "X_test = np.array(X_test)\n",
    "y_test = dnn.predict(X_test)\n",
    "y_test = sc.inverse_transform(y_test)\n"
   ]
  },
  {
   "cell_type": "code",
   "execution_count": 0,
   "metadata": {
    "colab": {
     "base_uri": "https://localhost:8080/",
     "height": 295
    },
    "colab_type": "code",
    "id": "eBwV6gTtj5Zr",
    "outputId": "6700c2f8-5faf-4195-ee59-ee64c54491ad"
   },
   "outputs": [
    {
     "data": {
      "image/png": "[encoded data removed]",
      "text/plain": [
       "<Figure size 432x288 with 1 Axes>"
      ]
     },
     "metadata": {
      "tags": []
     },
     "output_type": "display_data"
    }
   ],
   "source": [
    "# Visualising the results\n",
    "plt.plot(y_true, color = 'red', label = 'True Label')\n",
    "plt.plot(y_test, color = 'blue', label = 'Predicted Label')\n",
    "plt.title('USD-INR Stock Price Prediction')\n",
    "plt.xlabel('Time')\n",
    "plt.ylabel('INR Stock Price')\n",
    "plt.legend()\n",
    "plt.show()"
   ]
  },
  {
   "cell_type": "code",
   "execution_count": 0,
   "metadata": {
    "colab": {
     "base_uri": "https://localhost:8080/",
     "height": 51
    },
    "colab_type": "code",
    "id": "px0pbVuPj_Ph",
    "outputId": "2aea7863-e544-4d58-ad94-4f0e3458fdb6"
   },
   "outputs": [
    {
     "name": "stdout",
     "output_type": "stream",
     "text": [
      "MSE: 128.233756\n",
      "\r",
      "2: -13.599452\n"
     ]
    }
   ],
   "source": [
    "mse = mean_squared_error(y_true, y_test)\n",
    "r2 = r2_score(y_true, y_test)\n",
    "print('MSE: %f' % mse)\n",
    "print('\\r2: %f' % r2)"
   ]
  },
  {
   "cell_type": "code",
   "execution_count": 0,
   "metadata": {
    "colab": {},
    "colab_type": "code",
    "id": "hAiKhZYcR76n"
   },
   "outputs": [],
   "source": []
  },
  {
   "cell_type": "markdown",
   "metadata": {
    "colab_type": "text",
    "id": "sgkEgJbGpuUi"
   },
   "source": [
    "## SVM"
   ]
  },
  {
   "cell_type": "code",
   "execution_count": 0,
   "metadata": {
    "colab": {},
    "colab_type": "code",
    "id": "Uebx7efpR732"
   },
   "outputs": [],
   "source": [
    "# Creating a data structure with 60 timesteps and 1 output\n",
    "test = df.iloc[:400,1:2]\n",
    "train = df.iloc[401:,1:2]\n",
    "training_set = train.values\n",
    "training_set = np.flip(training_set)\n",
    "sc = MinMaxScaler(feature_range = (0, 1))\n",
    "training_set_scaled = sc.fit_transform(training_set)\n",
    "y_true = test.values\n",
    "y_true = np.flip(y_true)\n",
    "X_train = []\n",
    "y_train = []\n",
    "for i in range(60, train.shape[0]):\n",
    "    X_train.append(training_set_scaled[i-60:i, 0])\n",
    "    y_train.append(training_set_scaled[i, 0])\n",
    "X_train, y_train = np.array(X_train), np.array(y_train)"
   ]
  },
  {
   "cell_type": "code",
   "execution_count": 0,
   "metadata": {
    "colab": {
     "base_uri": "https://localhost:8080/",
     "height": 182
    },
    "colab_type": "code",
    "id": "12pFnvGcR70T",
    "outputId": "d54bf8d1-1322-43c0-b987-3dd90ab83fa5"
   },
   "outputs": [
    {
     "name": "stderr",
     "output_type": "stream",
     "text": [
      "/usr/local/lib/python3.6/dist-packages/sklearn/svm/base.py:196: FutureWarning: The default value of gamma will change from 'auto' to 'scale' in version 0.22 to account better for unscaled features. Set gamma explicitly to 'auto' or 'scale' to avoid this warning.\n",
      "  \"avoid this warning.\", FutureWarning)\n"
     ]
    },
    {
     "data": {
      "text/plain": [
       "SVR(C=1.0, cache_size=200, coef0=0.0, degree=3, epsilon=0.1,\n",
       "  gamma='auto_deprecated', kernel='rbf', max_iter=-1, shrinking=True,\n",
       "  tol=0.001, verbose=False)"
      ]
     },
     "execution_count": 40,
     "metadata": {
      "tags": []
     },
     "output_type": "execute_result"
    }
   ],
   "source": [
    "model = svm.SVR(kernel='rbf')\n",
    "model.fit(X_train,y_train)"
   ]
  },
  {
   "cell_type": "code",
   "execution_count": 0,
   "metadata": {
    "colab": {},
    "colab_type": "code",
    "id": "CZm6d16smnaM"
   },
   "outputs": [],
   "source": [
    "# Getting the predicted stock price \n",
    "dataset = pd.concat((df.iloc[401:]['Open'], df.iloc[:400]['Open']), axis = 0)\n",
    "inputs = dataset[len(dataset) - len(test) - 60:].values\n",
    "inputs = inputs.reshape(-1,1)\n",
    "inputs = sc.transform(inputs)\n",
    "X_test = []\n",
    "for i in range(60, 460):\n",
    "    X_test.append(inputs[i-60:i, 0])\n",
    "X_test = np.array(X_test)\n",
    "y_test = model.predict(X_test)"
   ]
  },
  {
   "cell_type": "code",
   "execution_count": 0,
   "metadata": {
    "colab": {
     "base_uri": "https://localhost:8080/",
     "height": 295
    },
    "colab_type": "code",
    "id": "BBqM6IfETFOK",
    "outputId": "7eae765a-7c39-4bb9-d869-393b12b3a701"
   },
   "outputs": [
    {
     "data": {
      "image/png": "[encoded data removed]",
      "text/plain": [
       "<Figure size 432x288 with 1 Axes>"
      ]
     },
     "metadata": {
      "tags": []
     },
     "output_type": "display_data"
    }
   ],
   "source": [
    "# Visualising the results\n",
    "plt.plot(y_true, color = 'red', label = 'True Label')\n",
    "plt.plot(y_test, color = 'blue', label = 'Predicted Label')\n",
    "plt.title('USD-INR Stock Price Prediction')\n",
    "plt.xlabel('Time')\n",
    "plt.ylabel('INR Stock Price')\n",
    "plt.legend()\n",
    "plt.show()"
   ]
  },
  {
   "cell_type": "code",
   "execution_count": 0,
   "metadata": {
    "colab": {
     "base_uri": "https://localhost:8080/",
     "height": 51
    },
    "colab_type": "code",
    "id": "71Pz-bB7TQBN",
    "outputId": "e9df8a92-b2bd-42b3-97bd-acf1b6b6cf05"
   },
   "outputs": [
    {
     "name": "stdout",
     "output_type": "stream",
     "text": [
      "MSE: 4624.197382\n",
      "\r",
      "2: -525.466266\n"
     ]
    }
   ],
   "source": [
    "mse = mean_squared_error(y_true, y_test)\n",
    "r2 = r2_score(y_true, y_test)\n",
    "print('MSE: %f' % mse)\n",
    "print('\\n r2: %f' % r2)"
   ]
  }
 ],
 "metadata": {
  "accelerator": "GPU",
  "colab": {
   "collapsed_sections": [],
   "name": "Project.ipynb",
   "provenance": [],
   "version": "0.3.2"
  },
  "kernelspec": {
   "display_name": "Python 3",
   "language": "python",
   "name": "python3"
  },
  "language_info": {
   "codemirror_mode": {
    "name": "ipython",
    "version": 3
   },
   "file_extension": ".py",
   "mimetype": "text/x-python",
   "name": "python",
   "nbconvert_exporter": "python",
   "pygments_lexer": "ipython3",
   "version": "3.6.8"
  }
 },
 "nbformat": 4,
 "nbformat_minor": 1
}
